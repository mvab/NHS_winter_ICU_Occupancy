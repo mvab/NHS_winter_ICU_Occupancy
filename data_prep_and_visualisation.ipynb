{
 "cells": [
  {
   "cell_type": "markdown",
   "metadata": {},
   "source": [
    "\n"
   ]
  },
  {
   "cell_type": "markdown",
   "metadata": {},
   "source": [
    "<br>\n",
    "\n",
    "## Winter critical care hospital occupancy in Bristol for adults, children, and infants (2018-2019, pre-COVID)\n",
    "\n",
    "\n",
    "Challenge details: [https://github.com/MRCIEU/P4winter-viz-challenge](https://github.com/MRCIEU/P4winter-viz-challenge)\n",
    "\n",
    "Data from NHS England: [Winter SitRep: Acute Time series 3 December 2018 to 3 March 2019 (XLSX, 1480kB)](https://www.england.nhs.uk/statistics/statistical-work-areas/winter-daily-sitreps/winter-daily-sitrep-2018-19-data/)\n",
    "\n",
    "Visualisation tools: R packages **circilize** ([https://github.com/jokergoo/circlize](https://github.com/jokergoo/circlize)) and **ComplexHeatmap** (Bioconductor)\n",
    "\n",
    "<br>\n",
    "\n",
    "### Background\n",
    "\n",
    "The dataset contains critical care bed occupancy in all NHS Trusts across England, December 2018-February 2019 (pre-COVID data). \n",
    "\n",
    "In this analysis/visulisation I will focus on Bristol data only. Hospitals in Bristol are split between two NHS Trusts - _North Bristol NHS Trust_ and _University Hospitals Bristol and Weston NHS Foundation Trust_, which cover north and centre/south of the city, respectively. For context, below is list of hostpitals that belong to the two trusts [[source](https://en.wikipedia.org/wiki/Healthcare_in_Bristol)]:\n",
    "\n",
    "\n",
    "North Bristol NHS Trust  (**NBT**) manages hospitals in the north of the Bristol and South Gloucestershire.\n",
    "\n",
    "- Southmead Hospital\n",
    "- Cossham Memorial Hospital\n",
    "- Frenchay Hospital\n",
    "\n",
    "\n",
    "University Hospitals Bristol and Weston NHS Foundation Trust (**UHB**) manages hospitals in the centre and south of the city, and at Weston-super-Mare.\n",
    "\n",
    "- Bristol Royal Infirmary (BRI)\n",
    "- Bristol Heart Institute\n",
    "- Bristol Haematology and Oncology Centre\n",
    "- South Bristol Community Hospital\n",
    "- Bristol Royal Hospital for Children \n",
    "- St. Michael's Hospital\n",
    "- Bristol Eye Hospital\n",
    "- University of Bristol Dental Hospital\n",
    "\n",
    "### Analysis\n",
    "\n",
    "We are going to look at critical care bed occupancy for adults, children (<14 years), and infants (<6 months) in these two Bristol-based NHS Trusts (NBT & UHB), and visualise how occupancy changed over the winter months (especially during the holidays period! `r emo::ji(\"christmas\")`)\n"
   ]
  },
  {
   "cell_type": "code",
   "execution_count": null,
   "metadata": {},
   "outputs": [],
   "source": [
    "library(dplyr, warn.conflicts=FALSE)\n",
    "library(tidyr)\n",
    "library(tibble)\n",
    "library(openxlsx)\n",
    "suppressPackageStartupMessages(library(lubridate))\n",
    "\n",
    "suppressPackageStartupMessages(library(ComplexHeatmap))\n",
    "suppressPackageStartupMessages(library(circlize))\n",
    "\n",
    "# options for jupyter\n",
    "options(warn=-1)\n",
    "options(jupyter.plot_scale=1)\n",
    "\n",
    "filename =\"Winter-data-timeseries-20190307.xlsx\"\n"
   ]
  },
  {
   "cell_type": "markdown",
   "metadata": {},
   "source": [
    "#### Load data\n",
    "\n",
    "Reading the xls file and converting the data into the long format.\n"
   ]
  },
  {
   "cell_type": "code",
   "execution_count": null,
   "metadata": {},
   "outputs": [],
   "source": [
    "# functions \n",
    "load_data <- function(file, sheet){\n",
    "      \n",
    "      # read the dat in the specified sheet\n",
    "      dat<- read.xlsx(xlsxFile = file, \n",
    "                        fillMergedCells = TRUE, colNames = FALSE, \n",
    "                        sheet = sheet, rows = c(13:151))\n",
    "      \n",
    "      # store NHS trust names and location separately\n",
    "      nhs_labels <- dat %>% select(region = X1, code = X3, Name= X4)\n",
    "      nhs_labels <- nhs_labels[5:nrow(nhs_labels),]\n",
    "      \n",
    "      # store main data\n",
    "      data_values <- dat %>% select(X4:X277)\n",
    "      \n",
    "      # vector of dates read in numerical format\n",
    "      dates_numerical <- data_values[2, 2:227]\n",
    "      # vector of value types\n",
    "      colnames_vector <- data_values[3, 2:227]\n",
    "      \n",
    "      # create value type+date vector\n",
    "      new_names <-paste(colnames_vector, dates_numerical,sep='_')\n",
    "      \n",
    "      # keep only values + add new colnames\n",
    "      data_values_only <- data_values[4:138,1:227]\n",
    "      colnames(data_values_only) <- c(\"Name\", new_names )\n",
    "      \n",
    "      # pivot data to long format; split type_date; convert date_numerical to Date; add NHS Trust labels\n",
    "      out <- data_values_only %>% \n",
    "                 pivot_longer(!Name, names_to = \"variable\", values_to = \"value\") %>% \n",
    "                 separate(col=variable, into=c(\"variable\", \"date\"), sep = \"_\") %>% \n",
    "                 mutate(date = openxlsx::convertToDate(date)) %>% \n",
    "                 left_join(nhs_labels, by = \"Name\") %>% \n",
    "                 arrange(region)\n",
    "      return(out)\n",
    "}\n",
    "\n",
    "\n",
    "dat_adult <- load_data(file = filename, sheet = \"Adult critical care\")\n",
    "head(dat_adult)\n"
   ]
  },
  {
   "cell_type": "markdown",
   "metadata": {},
   "source": [
    "#### Process data\n",
    "\n",
    "Subsetting the data to Bristol NHS Trusts, and exctracting bed occupancy rates for each date in the two Trusts.\n"
   ]
  },
  {
   "cell_type": "code",
   "execution_count": null,
   "metadata": {},
   "outputs": [],
   "source": [
    "process_data <- function(data){\n",
    "      \n",
    "      # subset to Bristol\n",
    "      data_region <- data %>% \n",
    "                mutate(value=as.numeric(value)) %>% \n",
    "                filter(grepl(\"Bristol\", Name)) %>% \n",
    "                mutate(abbr = case_when(Name == \"University Hospitals Bristol NHS Foundation Trust\" ~ \"UHB\",\n",
    "                                        Name == \"North Bristol NHS Trust\" ~\"\\nNBT\"))\n",
    "              \n",
    "      # keep only Occupancy data\n",
    "      data_region_occ <- data_region %>% \n",
    "                filter(grepl(\"Occupancy\", variable))\n",
    "        \n",
    "      # pivot data to wide format\n",
    "      data_region_occ_wide <- data_region_occ %>% \n",
    "                 pivot_wider(id_cols=date, names_from = abbr, values_from = value, values_fill = NA) %>% \n",
    "                 # extarct month from the date and create column with month name labels (set order with factor)\n",
    "                 mutate(month = lubridate::month(date, label=T, abbr=F)) %>%\n",
    "                 mutate(month = factor(month, levels = c(\"December\", \"January\" , \"February\"))) %>% \n",
    "                 # create dat in 01-Dec format for the plot\n",
    "                 mutate(DayDate=lubridate::day(date)) %>%\n",
    "                 mutate(MonthDate=month(date, label=T)) %>%\n",
    "                 unite(DayMonth, c(\"DayDate\", \"MonthDate\"), sep = \"-\")\n",
    "        \n",
    "      # keep month labels as a separate variable - will be used in viz for sectors\n",
    "      split <- data_region_occ_wide$month\n",
    "      \n",
    "      # tidy the output\n",
    "      data_region_occ_wide<-\n",
    "                 data_region_occ_wide %>% \n",
    "                 column_to_rownames('DayMonth') %>% \n",
    "                 select( \"UHB\",  \"\\nNBT\") # arrange in the order to appear on the plot\n",
    "      \n",
    "      return(list(\n",
    "        full_bristol_data = data_region,\n",
    "        wide_data = data_region_occ_wide,\n",
    "        split = split\n",
    "  ))\n",
    "}\n",
    "\n",
    "dat_adult_bristol <- process_data(dat_adult)\n",
    "head(dat_adult_bristol$wide_data)\n"
   ]
  },
  {
   "cell_type": "markdown",
   "metadata": {},
   "source": [
    "#### Visualise data (circular heatmap)\n",
    "\n"
   ]
  },
  {
   "cell_type": "code",
   "execution_count": null,
   "metadata": {},
   "outputs": [],
   "source": [
    "plot_circular_heatmap <- function(df,  title_prefix){\n",
    "      # https://jokergoo.github.io/circlize_book/book/circos-heatmap.html\n",
    "      \n",
    "      split <- df$split\n",
    "      df<- df$wide_data\n",
    "    \n",
    "      # create color palette green-white-red (min to max occupancy)\n",
    "      vals <- c(df$`\\nNBT`, df$`UHB`)\n",
    "      min <- round(min(vals[!is.na(vals)]),1)\n",
    "      mid = (1+min)/2\n",
    "      col_fun1 = colorRamp2(c(min, mid ,1), c(\"#0F3C28\", \"white\", \"#A7111C\"))\n",
    "      \n",
    "      # build plot by layers\n",
    "      circos.clear()\n",
    "      circos.par( gap.degree = c(5,5,20), start.degree = 150) \n",
    "      circos.heatmap(df,  col = col_fun1, track.height = 0.4, rownames.side = \"outside\", \n",
    "                     cluster=F, split = split, show.sector.labels = T,\n",
    "                     bg.border = \"grey\", bg.lwd = 1, bg.lty = 1)\n",
    "      \n",
    "      circos.track(track.index = get.current.track.index(), panel.fun = function(x, y) {\n",
    "        if(CELL_META$sector.numeric.index == 1) { # the last sector\n",
    "          cn = rev(colnames(df))\n",
    "          n = length(cn)\n",
    "          circos.text(x = rep(CELL_META$cell.xlim[2]+49, n) + convert_x(1, \"mm\"),  # 49 is a magic number\n",
    "                      y = 1:n - 3, \n",
    "                      labels = cn, \n",
    "                      cex = 0.8, \n",
    "                      adj = c(0, 1), \n",
    "                      facing = \"inside\")\n",
    "        }\n",
    "      }, bg.border = NA)\n",
    "      lgd = Legend(title = paste0(title_prefix,\"\\nbed occupancy\"), col_fun = col_fun1)\n",
    "      grid.draw(lgd)\n",
    "\n",
    "}\n"
   ]
  },
  {
   "cell_type": "markdown",
   "metadata": {},
   "source": [
    "\n"
   ]
  },
  {
   "cell_type": "code",
   "execution_count": null,
   "metadata": {},
   "outputs": [],
   "source": [
    "kable_it<-function(df){\n",
    "  suppressPackageStartupMessages((library(kableExtra))\n",
    "  df %>% \n",
    "    kable(.) %>%\n",
    "    kable_styling()\n",
    "}\n"
   ]
  },
  {
   "cell_type": "markdown",
   "metadata": {},
   "source": [
    "\n",
    "### Adult critical care\n"
   ]
  },
  {
   "cell_type": "code",
   "execution_count": null,
   "metadata": {},
   "outputs": [],
   "source": [
    "plot_circular_heatmap(df=dat_adult_bristol,  \"Adult critical care\")\n",
    "\n"
   ]
  },
  {
   "cell_type": "markdown",
   "metadata": {},
   "source": [
    " - UBH was very busy during the entire winter season (mean occupancy 93%) \n",
    " - The only days with occupancy < 80% at UHB were Christmas and Boxing Days `r emo::ji(\"christmas\")`\n",
    " - NBT was busy too (mean occupancy 76%), but there were less people in critical care in NBT over the entire holiday season (~ 20-Dec to 6-Jan) `r emo::ji(\"christmas\")`)\n"
   ]
  },
  {
   "cell_type": "code",
   "execution_count": null,
   "metadata": {},
   "outputs": [],
   "source": [
    "# mean occupancy\n",
    "round(colMeans(dat_adult_bristol$wide_data),2)\n"
   ]
  },
  {
   "cell_type": "markdown",
   "metadata": {},
   "source": [
    "\n"
   ]
  },
  {
   "cell_type": "code",
   "execution_count": null,
   "metadata": {},
   "outputs": [],
   "source": [
    "# show the total number of available beds in each NHS Trust\n",
    "dat_adult_bristol$full_bristol_data  %>% \n",
    "  select(Name, abbr, variable, open_beds = value) %>% \n",
    "  mutate(abbr = gsub(\"\\n\", \"\", abbr)) %>% \n",
    "  filter(variable == \"CC Adult Open\") %>% \n",
    "  count(Name, abbr, open_beds) %>% filter(n>1) %>% select(-n)  %>% kable_it()\n"
   ]
  },
  {
   "cell_type": "markdown",
   "metadata": {},
   "source": [
    "<br>\n",
    "\n",
    "### Paediatric intensive care\n",
    "\n",
    "Children (< 14 years)\n"
   ]
  },
  {
   "cell_type": "code",
   "execution_count": null,
   "metadata": {},
   "outputs": [],
   "source": [
    "dat_child <- load_data(file = filename,  sheet = \"Paediatric intensive care\")\n",
    "dat_child_bristol <- process_data(dat_child)\n",
    "plot_circular_heatmap(df=dat_child_bristol,  \"Paedeatric \\nintensive care\")\n"
   ]
  },
  {
   "cell_type": "markdown",
   "metadata": {},
   "source": [
    "- Paediatric intensive care in Bristol is only available at UHB (likely at he _Bristol Royal Hospital for Children_)\n",
    "- Therefore, no data is presented for NBT in the plot\n",
    "- There was quite \"low\" bed occupancy in the paediatric unit between 25-Dec and 7-Jan: < 50% `r emo::ji(\"christmas\")` `r emo::ji(\"christmas\")` `r emo::ji(\"christmas\")`\n"
   ]
  },
  {
   "cell_type": "code",
   "execution_count": null,
   "metadata": {},
   "outputs": [],
   "source": [
    "# mean occupancy\n",
    "round(colMeans(dat_child_bristol$wide_data),2)\n"
   ]
  },
  {
   "cell_type": "markdown",
   "metadata": {},
   "source": [
    "\n"
   ]
  },
  {
   "cell_type": "code",
   "execution_count": null,
   "metadata": {},
   "outputs": [],
   "source": [
    "# show the total number of available beds in each NHS Trust\n",
    "dat_child_bristol$full_bristol_data  %>% \n",
    "  select(Name, abbr, variable, open_beds = value) %>% \n",
    "  filter(variable == \"Paed Int Care Open\") %>% \n",
    "  mutate(abbr = gsub(\"\\n\", \"\", abbr)) %>% \n",
    "  count(Name, abbr, open_beds) %>% select(-n) %>% print()\n"
   ]
  },
  {
   "cell_type": "markdown",
   "metadata": {},
   "source": [
    "### Neonatal intensive care (NICU)\n",
    "\n",
    "Infants (< 6 months)\n"
   ]
  },
  {
   "cell_type": "code",
   "execution_count": null,
   "metadata": {},
   "outputs": [],
   "source": [
    "dat_baby <- load_data(file = filename, sheet = \"Neonatal intensive care \")\n",
    "dat_baby_bristol <- process_data(dat_baby)\n",
    "plot_circular_heatmap(df=dat_baby_bristol,  \"Neonatal \\nintensive care \")\n"
   ]
  },
  {
   "cell_type": "markdown",
   "metadata": {},
   "source": [
    "- NBT and UHB have similar number of NICU beds (30/31)\n",
    "- NBT was busier (92% mean occupancy), with 100% beds taken from 24-Dec to 23-Jan\n",
    "- At UHB less beds were occupied from 24-Dec to 5-Jan `r emo::ji(\"christmas\")`\n"
   ]
  },
  {
   "cell_type": "code",
   "execution_count": null,
   "metadata": {},
   "outputs": [],
   "source": [
    "# mean occupancy\n",
    "round(colMeans(dat_baby_bristol$wide_data),2)\n"
   ]
  },
  {
   "cell_type": "markdown",
   "metadata": {},
   "source": [
    "\n"
   ]
  },
  {
   "cell_type": "code",
   "execution_count": null,
   "metadata": {},
   "outputs": [],
   "source": [
    "# show the total number of available beds in each NHS Trust\n",
    "dat_baby_bristol$full_bristol_data  %>%\n",
    "  select(Name, abbr, variable, open_beds = value) %>% \n",
    "  filter(variable == \"Neo Int Care Open\") %>% \n",
    "  mutate(abbr = gsub(\"\\n\", \"\", abbr)) %>% \n",
    "  count(Name, abbr, open_beds) %>% filter(n>10) %>% select(-n)  %>% kable_it()\n"
   ]
  },
  {
   "cell_type": "markdown",
   "metadata": {},
   "source": [
    "<br>\n",
    "<br>\n",
    "\n",
    "#### Final thoughts\n",
    "\n",
    "- Critical care bed occupancy was high during the winter season pre-Covid\n",
    "- High occupancy in neonatal intensive care may not be winter-season related\n",
    "- Overall, there were less adults and children in critical care over the holiday season `r emo::ji(\"christmas\")` `r emo::ji(\"christmas\")` `r emo::ji(\"christmas\")`\n",
    "\n",
    "<br>\n",
    "\n",
    "<center>\n",
    "\n",
    "![](https://media.tenor.com/iLT5yyoJg2oAAAAC/christmas-miracle.gif)\n",
    "\n",
    "</center>\n"
   ]
  }
 ],
 "metadata": {
  "anaconda-cloud": "",
  "kernelspec": {
   "display_name": "R",
   "language": "R",
   "name": "ir"
  },
  "language_info": {
   "codemirror_mode": "r",
   "file_extension": ".r",
   "mimetype": "text/x-r-source",
   "name": "R",
   "pygments_lexer": "r",
   "version": "4.2.1"
  }
 },
 "nbformat": 4,
 "nbformat_minor": 1
}
