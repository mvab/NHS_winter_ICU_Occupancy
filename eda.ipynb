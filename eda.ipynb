{
    "cells": [
        {
            "cell_type": "markdown",
            "metadata": {},
            "source": "\n"
        },
        {
            "cell_type": "code",
            "execution_count": null,
            "metadata": {},
            "outputs": [],
            "source": [
                "knitr::opts_chunk$set(eval = TRUE, include = T, message = F, warning = F, comment=\"\")\n",
                "\n"
            ]
        },
        {
            "cell_type": "markdown",
            "metadata": {},
            "source": [
                "Challenge details: [https://github.com/MRCIEU/P4winter-viz-challenge](https://github.com/MRCIEU/P4winter-viz-challenge)\n",
                "\n",
                "Data from NHS England: [Winter SitRep: Acute Time series 3 December 2018 to 3 March 2019 (XLSX, 1480kB)\"](https://wCww.england.nhs.uk/statistics/statistical-work-areas/winter-daily-sitreps/winter-daily-sitrep-2018-19-data/)\n",
                "\n",
                "# Critical care bed occupancy in Bristol among adult, chulderen, and babie, in the winter 2018-2019\n",
                "\n",
                "### Background\n",
                "\n",
                "We are going to look at data from NHS trust hospital occupancy winter peris on 2018-2019 (pre-Covid).\n",
                "\n",
                "Going to focus on Bristol data, which is split intp 2 NHS trusts:\n",
                "\n",
                "North Bristol NHS Trust  (**NBT**) manages hospitals in the north of the Bristol and South Gloucestershire.\n",
                "\n",
                "- Southmead Hospital (has A&E)\n",
                "- Cossham Memorial Hospital\n",
                "- Frenchay Hospital\n",
                "\n",
                "\n",
                "University Hospitals Bristol and Weston NHS Foundation Trust (**UHB**) manages hospitals in the centre and south of the city, and at Weston-super-Mare.\n",
                "\n",
                "- Bristol Royal Infirmary (has Accident & emergency (A&E)\n",
                "- Bristol Heart Institute\n",
                "- Bristol Haematology and Oncology Centre\n",
                "- South Bristol Community Hospital\n",
                "- Bristol Royal Hospital for Children (has A&E)\n",
                "- St. Michael's Hospital\n",
                "- Bristol Eye Hospital (has A&E daytime every day, eye only)\n",
                "- University of Bristol Dental Hospital\n",
                "\n",
                "\n",
                "We are going to look at critical care bed occupance for adults, children (<14 years), and babies (<6 months) in these trusts. \n"
            ]
        },
        {
            "cell_type": "code",
            "execution_count": null,
            "metadata": {},
            "outputs": [],
            "source": [
                "library(dplyr)\n",
                "library(tidyr)\n",
                "library(tibble)\n",
                "library(lubridate)\n",
                "library(openxlsx)\n",
                "\n",
                "library(ComplexHeatmap)\n",
                "library(circlize) \n",
                "\n",
                "# data from https://www.england.nhs.uk/statistics/statistical-work-areas/winter-daily-sitreps/winter-daily-sitrep-2018-19-data/\n",
                "filename =\"Winter-data-timeseries-20190307.xlsx\"\n"
            ]
        },
        {
            "cell_type": "markdown",
            "metadata": {},
            "source": [
                "### Load data\n",
                "\n"
            ]
        },
        {
            "cell_type": "code",
            "execution_count": null,
            "metadata": {},
            "outputs": [],
            "source": [
                "# functions \n",
                "load_data <- function(file, sheet){\n",
                "      \n",
                "      # read the dat in the specified sheet\n",
                "      dat<- read.xlsx(xlsxFile = file, \n",
                "                        fillMergedCells = TRUE, colNames = FALSE, \n",
                "                        sheet = sheet, rows = c(13:151))\n",
                "      \n",
                "      # store NHS trust names and location separately\n",
                "      nhs_labels <- dat %>% select(region = X1, code = X3, Name= X4)\n",
                "      nhs_labels <- nhs_labels[5:nrow(nhs_labels),]\n",
                "      \n",
                "      # store main data\n",
                "      data_values <- dat %>% select(X4:X277)\n",
                "      \n",
                "      # vector of dates read in numerical format\n",
                "      dates_numerical <- data_values[2, 2:227]\n",
                "      # vector of value types\n",
                "      colnames_vector <- data_values[3, 2:227]\n",
                "      \n",
                "      # create value type+date vector\n",
                "      new_names <-paste(colnames_vector, dates_numerical,sep='_')\n",
                "      \n",
                "      # keep only values + add new colnames\n",
                "      data_values_only <- data_values[4:138,1:227]\n",
                "      colnames(data_values_only) <- c(\"Name\", new_names )\n",
                "      \n",
                "      # pivot data to long format; split type_date; convert date_numerical to Date; add NHS Trust labels\n",
                "      out <- data_values_only %>% \n",
                "                 pivot_longer(!Name, names_to = \"variable\", values_to = \"value\") %>% \n",
                "                 separate(col=variable, into=c(\"variable\", \"date\"), sep = \"_\") %>% \n",
                "                 mutate(date = openxlsx::convertToDate(date)) %>% \n",
                "                 left_join(nhs_labels, by = \"Name\") %>% \n",
                "                 arrange(region)\n",
                "      \n",
                "      return(out)\n",
                "    \n",
                "}\n",
                "\n",
                "\n",
                "dat_adult <- load_data(file = filename, sheet = \"Adult critical care\")\n",
                "head(dat_adult)\n"
            ]
        },
        {
            "cell_type": "markdown",
            "metadata": {},
            "source": [
                "### Process data\n",
                "\n",
                " - subset to Bristol NHS Trusts  + output occupancy value \n"
            ]
        },
        {
            "cell_type": "code",
            "execution_count": null,
            "metadata": {},
            "outputs": [],
            "source": [
                "process_data <- function(data){\n",
                "      \n",
                "      # subset to Bristol\n",
                "      data_region <- data %>% \n",
                "                mutate(value=as.numeric(value)) %>% \n",
                "                filter(grepl(\"Bristol\", Name)) %>% \n",
                "                mutate(abbr = case_when(Name == \"University Hospitals Bristol NHS Foundation Trust\" ~ \"UHB\",\n",
                "                                        Name == \"North Bristol NHS Trust\" ~\"\\nNBT\"))\n",
                "              \n",
                "      # keep only Occupancy data\n",
                "      data_region_occ <- data_region %>% \n",
                "                filter(grepl(\"Occupancy\", variable))\n",
                "        \n",
                "      # pivot data to wide format\n",
                "      data_region_occ_wide <- data_region_occ %>% \n",
                "                 pivot_wider(id_cols=date, names_from = abbr, values_from = value, values_fill = NA) %>% \n",
                "                 # extarct month from the date and create column with month name labels (set order with factor)\n",
                "                 mutate(month = lubridate::month(date, label=T, abbr=F)) %>%\n",
                "                 mutate(month = factor(month, levels = c(\"December\", \"January\" , \"February\"))) %>% \n",
                "                 # create dat in 01-Dec format for the plot\n",
                "                 mutate(DayDate=lubridate::day(date)) %>%\n",
                "                 mutate(MonthDate=month(date, label=T)) %>%\n",
                "                 unite(DayMonth, c(\"DayDate\", \"MonthDate\"), sep = \"-\")\n",
                "        \n",
                "      # keep month labels as a separate variable - will be used in viz for sectors\n",
                "      split <- data_region_occ_wide$month\n",
                "      \n",
                "      # tidy the output\n",
                "      data_region_occ_wide<-\n",
                "                 data_region_occ_wide %>% \n",
                "                 column_to_rownames('DayMonth') %>% \n",
                "                 select( \"UHB\",  \"\\nNBT\") # arrange in the order to appear on the plot\n",
                "      \n",
                "      return(list(\n",
                "        full_bristol_data = data_region,\n",
                "        wide_data = data_region_occ_wide,\n",
                "        split = split\n",
                "  ))\n",
                "}\n",
                "\n",
                "dat_adult_bristol <- process_data(dat_adult)\n",
                "head(dat_adult_bristol$wide_data)\n"
            ]
        },
        {
            "cell_type": "markdown",
            "metadata": {},
            "source": [
                "### Plot circular heatmap of occupancy rate\n",
                "\n"
            ]
        },
        {
            "cell_type": "code",
            "execution_count": null,
            "metadata": {},
            "outputs": [],
            "source": [
                "plot_circular_heatmap <- function(df,  title_prefix){\n",
                "      # https://jokergoo.github.io/circlize_book/book/circos-heatmap.html\n",
                "      \n",
                "      split <- df$split\n",
                "      df<- df$wide_data\n",
                "    \n",
                "      # create color paletter green-white-red (min to max occupancy)\n",
                "      vals <- c(df$`\\nNBT`, df$`UHB`)\n",
                "      min <- round(min(vals[!is.na(vals)]),1)\n",
                "      mid = (1+min)/2\n",
                "      col_fun1 = colorRamp2(c(min, mid ,1), c(\"#0F3C28\", \"white\", \"#A7111C\"))\n",
                "      \n",
                "      # build plot by layers\n",
                "      circos.clear()\n",
                "      circos.par( gap.degree = c(5,5,20), start.degree = 150) \n",
                "      circos.heatmap(df,  col = col_fun1, track.height = 0.4, rownames.side = \"outside\", \n",
                "                     cluster=F, split = split, show.sector.labels = T,\n",
                "                     bg.border = \"grey\", bg.lwd = 1, bg.lty = 1)\n",
                "      \n",
                "      circos.track(track.index = get.current.track.index(), panel.fun = function(x, y) {\n",
                "        if(CELL_META$sector.numeric.index == 1) { # the last sector\n",
                "          cn = rev(colnames(df))\n",
                "          n = length(cn)\n",
                "          circos.text(x = rep(CELL_META$cell.xlim[2]+49, n) + convert_x(1, \"mm\"),  # 49 is a magic number\n",
                "                      y = 1:n - 3, \n",
                "                      labels = cn, \n",
                "                      cex = 0.8, \n",
                "                      adj = c(0, 1), \n",
                "                      facing = \"inside\")\n",
                "        }\n",
                "      }, bg.border = NA)\n",
                "      lgd = Legend(title = paste0(title_prefix,\"\\nbed occupancy\"), col_fun = col_fun1)\n",
                "      grid.draw(lgd)\n",
                "\n",
                "}\n"
            ]
        },
        {
            "cell_type": "markdown",
            "metadata": {},
            "source": [
                "\n",
                "## Adult critical care\n"
            ]
        },
        {
            "cell_type": "code",
            "execution_count": null,
            "metadata": {},
            "outputs": [],
            "source": [
                "plot_circular_heatmap(df=dat_adult_bristol,  \"Adult critical care\")\n",
                "  \n",
                "\n",
                "dat_adult_bristol$full_bristol_data  %>% \n",
                "  select(Name, abbr, variable, open_beds = value) %>% \n",
                "  mutate(abbr = gsub(\"\\n\", \"\", abbr)) %>% \n",
                "  filter(variable == \"CC Adult Open\") %>% count(Name, abbr, open_beds) %>% filter(n>1) %>% select(-n)\n"
            ]
        },
        {
            "cell_type": "markdown",
            "metadata": {},
            "source": [
                "<br>\n",
                "\n",
                "## Paediatric intensive care\n",
                "\n",
                "Children (< 14 years)\n"
            ]
        },
        {
            "cell_type": "code",
            "execution_count": null,
            "metadata": {},
            "outputs": [],
            "source": [
                "dat_child <- load_data(file = filename,  sheet = \"Paediatric intensive care\")\n",
                "dat_child_bristol <- process_data(dat_child)\n",
                "plot_circular_heatmap(df=dat_child_bristol,  \"Paedeatric \\nintensive care\")\n",
                "\n",
                "\n",
                "dat_child_bristol$full_bristol_data  %>% \n",
                "  select(Name, abbr, variable, open_beds = value) %>% \n",
                "  filter(variable == \"Paed Int Care Open\") %>% \n",
                "  mutate(abbr = gsub(\"\\n\", \"\", abbr)) %>% \n",
                "  count(Name, abbr, open_beds) %>% select(-n)\n"
            ]
        },
        {
            "cell_type": "markdown",
            "metadata": {},
            "source": [
                "<br>\n",
                "\n",
                "\n",
                "## Neonatal intensive care\n",
                "\n",
                "Babies (< 6 months)\n"
            ]
        },
        {
            "cell_type": "code",
            "execution_count": null,
            "metadata": {},
            "outputs": [],
            "source": [
                "dat_baby <- load_data(file = filename, sheet = \"Neonatal intensive care \")\n",
                "dat_baby_bristol <- process_data(dat_baby)\n",
                "plot_circular_heatmap(df=dat_baby_bristol,  \"Neonatal \\nintensive care \")\n",
                "\n",
                "dat_baby_bristol$full_bristol_data  %>%\n",
                "  select(Name, abbr, variable, open_beds = value) %>% \n",
                "  filter(variable == \"Neo Int Care Open\") %>% \n",
                "  mutate(abbr = gsub(\"\\n\", \"\", abbr)) %>% \n",
                "  count(Name, abbr, open_beds) %>% filter(n>10) %>% select(-n) \n"
            ]
        },
        {
            "cell_type": "markdown",
            "metadata": {},
            "source": [
                "\n",
                "\n"
            ]
        }
    ],
    "metadata": {
        "anaconda-cloud": "",
        "kernelspec": {
            "display_name": "R",
            "langauge": "R",
            "name": "ir"
        },
        "language_info": {
            "codemirror_mode": "r",
            "file_extension": ".r",
            "mimetype": "text/x-r-source",
            "name": "R",
            "pygments_lexer": "r",
            "version": "3.4.1"
        }
    },
    "nbformat": 4,
    "nbformat_minor": 1
}
